{
 "cells": [
  {
   "cell_type": "code",
   "execution_count": 59,
   "metadata": {},
   "outputs": [],
   "source": [
    "import pandas as pd"
   ]
  },
  {
   "cell_type": "code",
   "execution_count": 60,
   "metadata": {},
   "outputs": [],
   "source": [
    "df=pd.read_csv(\"serchresult.csv\")"
   ]
  },
  {
   "cell_type": "code",
   "execution_count": 61,
   "metadata": {},
   "outputs": [
    {
     "name": "stdout",
     "output_type": "stream",
     "text": [
      "<class 'pandas.core.frame.DataFrame'>\n",
      "RangeIndex: 2358 entries, 0 to 2357\n",
      "Data columns (total 11 columns):\n",
      " #   Column         Non-Null Count  Dtype  \n",
      "---  ------         --------------  -----  \n",
      " 0   Unnamed: 0     2358 non-null   int64  \n",
      " 1   v_id           2358 non-null   object \n",
      " 2   v_title        2358 non-null   object \n",
      " 3   Keyword        2358 non-null   object \n",
      " 4   publishedDate  2358 non-null   object \n",
      " 5   v_description  2298 non-null   object \n",
      " 6   viewCount      2358 non-null   int64  \n",
      " 7   likeCount      2332 non-null   float64\n",
      " 8   dislikeCount   2332 non-null   float64\n",
      " 9   favoriteCount  2358 non-null   int64  \n",
      " 10  commentCount   2308 non-null   float64\n",
      "dtypes: float64(3), int64(3), object(5)\n",
      "memory usage: 202.8+ KB\n"
     ]
    }
   ],
   "source": [
    "df.info()"
   ]
  },
  {
   "cell_type": "code",
   "execution_count": 62,
   "metadata": {},
   "outputs": [
    {
     "data": {
      "text/plain": [
       "Unnamed: 0       2358\n",
       "v_id             2358\n",
       "v_title          2349\n",
       "Keyword            50\n",
       "publishedDate    2354\n",
       "v_description    2256\n",
       "viewCount        2325\n",
       "likeCount        1510\n",
       "dislikeCount      418\n",
       "favoriteCount       1\n",
       "commentCount      589\n",
       "dtype: int64"
      ]
     },
     "execution_count": 62,
     "metadata": {},
     "output_type": "execute_result"
    }
   ],
   "source": [
    "df.nunique()"
   ]
  },
  {
   "cell_type": "code",
   "execution_count": 63,
   "metadata": {},
   "outputs": [],
   "source": [
    "df.commentCount.fillna(0,inplace=True)\n",
    "df.likeCount.fillna(0,inplace=True)\n",
    "df.dislikeCount.fillna(0,inplace=True)\n",
    "df.v_description.fillna(\"Not Available\",inplace=True)"
   ]
  },
  {
   "cell_type": "code",
   "execution_count": 64,
   "metadata": {},
   "outputs": [
    {
     "data": {
      "text/plain": [
       "Unnamed: 0       0\n",
       "v_id             0\n",
       "v_title          0\n",
       "Keyword          0\n",
       "publishedDate    0\n",
       "v_description    0\n",
       "viewCount        0\n",
       "likeCount        0\n",
       "dislikeCount     0\n",
       "favoriteCount    0\n",
       "commentCount     0\n",
       "dtype: int64"
      ]
     },
     "execution_count": 64,
     "metadata": {},
     "output_type": "execute_result"
    }
   ],
   "source": [
    "df.isnull().sum()"
   ]
  },
  {
   "cell_type": "code",
   "execution_count": 65,
   "metadata": {},
   "outputs": [],
   "source": [
    "data=df.drop({\"Unnamed: 0\",\"publishedDate\",\"favoriteCount\"},axis=1)"
   ]
  },
  {
   "cell_type": "code",
   "execution_count": 66,
   "metadata": {},
   "outputs": [
    {
     "data": {
      "text/html": [
       "<div>\n",
       "<style scoped>\n",
       "    .dataframe tbody tr th:only-of-type {\n",
       "        vertical-align: middle;\n",
       "    }\n",
       "\n",
       "    .dataframe tbody tr th {\n",
       "        vertical-align: top;\n",
       "    }\n",
       "\n",
       "    .dataframe thead th {\n",
       "        text-align: right;\n",
       "    }\n",
       "</style>\n",
       "<table border=\"1\" class=\"dataframe\">\n",
       "  <thead>\n",
       "    <tr style=\"text-align: right;\">\n",
       "      <th></th>\n",
       "      <th>v_id</th>\n",
       "      <th>v_title</th>\n",
       "      <th>Keyword</th>\n",
       "      <th>v_description</th>\n",
       "      <th>viewCount</th>\n",
       "      <th>likeCount</th>\n",
       "      <th>dislikeCount</th>\n",
       "      <th>commentCount</th>\n",
       "    </tr>\n",
       "  </thead>\n",
       "  <tbody>\n",
       "    <tr>\n",
       "      <th>count</th>\n",
       "      <td>2358</td>\n",
       "      <td>2358</td>\n",
       "      <td>2358</td>\n",
       "      <td>2358</td>\n",
       "      <td>2.358000e+03</td>\n",
       "      <td>2358.000000</td>\n",
       "      <td>2358.000000</td>\n",
       "      <td>2358.000000</td>\n",
       "    </tr>\n",
       "    <tr>\n",
       "      <th>unique</th>\n",
       "      <td>2358</td>\n",
       "      <td>2349</td>\n",
       "      <td>50</td>\n",
       "      <td>2257</td>\n",
       "      <td>NaN</td>\n",
       "      <td>NaN</td>\n",
       "      <td>NaN</td>\n",
       "      <td>NaN</td>\n",
       "    </tr>\n",
       "    <tr>\n",
       "      <th>top</th>\n",
       "      <td>Q57rzaHHO0k</td>\n",
       "      <td>Introduction to Decision Trees</td>\n",
       "      <td>Arificial Intelligence</td>\n",
       "      <td>Not Available</td>\n",
       "      <td>NaN</td>\n",
       "      <td>NaN</td>\n",
       "      <td>NaN</td>\n",
       "      <td>NaN</td>\n",
       "    </tr>\n",
       "    <tr>\n",
       "      <th>freq</th>\n",
       "      <td>1</td>\n",
       "      <td>2</td>\n",
       "      <td>50</td>\n",
       "      <td>60</td>\n",
       "      <td>NaN</td>\n",
       "      <td>NaN</td>\n",
       "      <td>NaN</td>\n",
       "      <td>NaN</td>\n",
       "    </tr>\n",
       "    <tr>\n",
       "      <th>mean</th>\n",
       "      <td>NaN</td>\n",
       "      <td>NaN</td>\n",
       "      <td>NaN</td>\n",
       "      <td>NaN</td>\n",
       "      <td>2.888502e+05</td>\n",
       "      <td>5666.691264</td>\n",
       "      <td>141.921544</td>\n",
       "      <td>306.523325</td>\n",
       "    </tr>\n",
       "    <tr>\n",
       "      <th>std</th>\n",
       "      <td>NaN</td>\n",
       "      <td>NaN</td>\n",
       "      <td>NaN</td>\n",
       "      <td>NaN</td>\n",
       "      <td>2.769733e+06</td>\n",
       "      <td>32881.538611</td>\n",
       "      <td>874.085152</td>\n",
       "      <td>1762.308611</td>\n",
       "    </tr>\n",
       "    <tr>\n",
       "      <th>min</th>\n",
       "      <td>NaN</td>\n",
       "      <td>NaN</td>\n",
       "      <td>NaN</td>\n",
       "      <td>NaN</td>\n",
       "      <td>0.000000e+00</td>\n",
       "      <td>0.000000</td>\n",
       "      <td>0.000000</td>\n",
       "      <td>0.000000</td>\n",
       "    </tr>\n",
       "    <tr>\n",
       "      <th>25%</th>\n",
       "      <td>NaN</td>\n",
       "      <td>NaN</td>\n",
       "      <td>NaN</td>\n",
       "      <td>NaN</td>\n",
       "      <td>6.748750e+03</td>\n",
       "      <td>135.000000</td>\n",
       "      <td>3.000000</td>\n",
       "      <td>10.000000</td>\n",
       "    </tr>\n",
       "    <tr>\n",
       "      <th>50%</th>\n",
       "      <td>NaN</td>\n",
       "      <td>NaN</td>\n",
       "      <td>NaN</td>\n",
       "      <td>NaN</td>\n",
       "      <td>3.192800e+04</td>\n",
       "      <td>571.000000</td>\n",
       "      <td>15.000000</td>\n",
       "      <td>40.000000</td>\n",
       "    </tr>\n",
       "    <tr>\n",
       "      <th>75%</th>\n",
       "      <td>NaN</td>\n",
       "      <td>NaN</td>\n",
       "      <td>NaN</td>\n",
       "      <td>NaN</td>\n",
       "      <td>1.437398e+05</td>\n",
       "      <td>2602.250000</td>\n",
       "      <td>68.000000</td>\n",
       "      <td>154.000000</td>\n",
       "    </tr>\n",
       "    <tr>\n",
       "      <th>max</th>\n",
       "      <td>NaN</td>\n",
       "      <td>NaN</td>\n",
       "      <td>NaN</td>\n",
       "      <td>NaN</td>\n",
       "      <td>1.266709e+08</td>\n",
       "      <td>981902.000000</td>\n",
       "      <td>29806.000000</td>\n",
       "      <td>43642.000000</td>\n",
       "    </tr>\n",
       "  </tbody>\n",
       "</table>\n",
       "</div>"
      ],
      "text/plain": [
       "               v_id                         v_title                 Keyword  \\\n",
       "count          2358                            2358                    2358   \n",
       "unique         2358                            2349                      50   \n",
       "top     Q57rzaHHO0k  Introduction to Decision Trees  Arificial Intelligence   \n",
       "freq              1                               2                      50   \n",
       "mean            NaN                             NaN                     NaN   \n",
       "std             NaN                             NaN                     NaN   \n",
       "min             NaN                             NaN                     NaN   \n",
       "25%             NaN                             NaN                     NaN   \n",
       "50%             NaN                             NaN                     NaN   \n",
       "75%             NaN                             NaN                     NaN   \n",
       "max             NaN                             NaN                     NaN   \n",
       "\n",
       "        v_description     viewCount      likeCount  dislikeCount  commentCount  \n",
       "count            2358  2.358000e+03    2358.000000   2358.000000   2358.000000  \n",
       "unique           2257           NaN            NaN           NaN           NaN  \n",
       "top     Not Available           NaN            NaN           NaN           NaN  \n",
       "freq               60           NaN            NaN           NaN           NaN  \n",
       "mean              NaN  2.888502e+05    5666.691264    141.921544    306.523325  \n",
       "std               NaN  2.769733e+06   32881.538611    874.085152   1762.308611  \n",
       "min               NaN  0.000000e+00       0.000000      0.000000      0.000000  \n",
       "25%               NaN  6.748750e+03     135.000000      3.000000     10.000000  \n",
       "50%               NaN  3.192800e+04     571.000000     15.000000     40.000000  \n",
       "75%               NaN  1.437398e+05    2602.250000     68.000000    154.000000  \n",
       "max               NaN  1.266709e+08  981902.000000  29806.000000  43642.000000  "
      ]
     },
     "execution_count": 66,
     "metadata": {},
     "output_type": "execute_result"
    }
   ],
   "source": [
    "data.describe(include=\"all\")"
   ]
  },
  {
   "cell_type": "code",
   "execution_count": 67,
   "metadata": {},
   "outputs": [],
   "source": [
    "import seaborn as sns\n",
    "import matplotlib.pyplot as plt\n",
    "import numpy as np\n",
    "sns.set()\n",
    "import warnings\n",
    "warnings.filterwarnings('ignore')"
   ]
  },
  {
   "cell_type": "code",
   "execution_count": 68,
   "metadata": {},
   "outputs": [
    {
     "data": {
      "image/png": "[encoded data removed]",
      "text/plain": [
       "<Figure size 720x576 with 4 Axes>"
      ]
     },
     "metadata": {},
     "output_type": "display_data"
    }
   ],
   "source": [
    "fig, ax= plt.subplots(2,2,figsize=(10,8),sharey=True)\n",
    "fig.suptitle(\"Video's Statstics\")\n",
    "\n",
    "sns.distplot(ax=ax[0,0],a=np.log(data[\"viewCount\"]+1),color=\"y\")\n",
    "\n",
    "\n",
    "sns.distplot(ax=ax[0,1],a=np.log(data[\"likeCount\"]+1),color=\"g\")\n",
    "\n",
    "\n",
    "sns.distplot(ax=ax[1,0],a=np.log(data[\"dislikeCount\"]+1),color=\"r\")\n",
    "\n",
    "\n",
    "sns.distplot(ax=ax[1,1],a=np.log(data[\"commentCount\"]+1),color=\"b\")\n",
    "\n",
    "plt.show()\n"
   ]
  },
  {
   "cell_type": "code",
   "execution_count": 69,
   "metadata": {},
   "outputs": [
    {
     "data": {
      "text/plain": [
       "Text(0.5, 1.0, 'Correlation Plot')"
      ]
     },
     "execution_count": 69,
     "metadata": {},
     "output_type": "execute_result"
    },
    {
     "data": {
      "image/png": "[encoded data removed]",
      "text/plain": [
       "<Figure size 504x504 with 1 Axes>"
      ]
     },
     "metadata": {},
     "output_type": "display_data"
    }
   ],
   "source": [
    "corr = data.corr(method='pearson')\n",
    "mask = np.zeros_like(corr)\n",
    "mask[np.triu_indices_from(mask)] = True\n",
    "fig, ax = plt.subplots(figsize=(7,7)) \n",
    "with sns.axes_style(\"white\"):\n",
    "    ax = sns.heatmap(corr, mask=mask,cbar=False, vmax=1, square=True,cmap=\"YlGnBu\",linewidths=.5,annot=True)\n",
    "ax.set_title('Correlation Plot', size=15)"
   ]
  },
  {
   "cell_type": "code",
   "execution_count": 70,
   "metadata": {},
   "outputs": [],
   "source": [
    "most_likedId = data['likeCount'].idxmax()\n",
    "most_viewdId = data['viewCount'].idxmax()\n",
    "most_dislikedId = data['dislikeCount'].idxmax()\n",
    "most_commentedId = data['commentCount'].idxmax()"
   ]
  },
  {
   "cell_type": "code",
   "execution_count": 71,
   "metadata": {},
   "outputs": [
    {
     "data": {
      "text/plain": [
       "v_id                                                   __TvPr_Wtvc\n",
       "v_title              Timmy Trumpet - Oracle (Official Music Video)\n",
       "Keyword                                                     Oracle\n",
       "v_description    Timmy Trumpet - Oracle is OUT NOW! Like this t...\n",
       "viewCount                                                126670859\n",
       "likeCount                                                   981902\n",
       "dislikeCount                                                 29806\n",
       "commentCount                                                 11532\n",
       "Name: 396, dtype: object"
      ]
     },
     "execution_count": 71,
     "metadata": {},
     "output_type": "execute_result"
    }
   ],
   "source": [
    "data.iloc[most_likedId]"
   ]
  },
  {
   "cell_type": "code",
   "execution_count": 72,
   "metadata": {},
   "outputs": [
    {
     "data": {
      "text/plain": [
       "v_id                                                   __TvPr_Wtvc\n",
       "v_title              Timmy Trumpet - Oracle (Official Music Video)\n",
       "Keyword                                                     Oracle\n",
       "v_description    Timmy Trumpet - Oracle is OUT NOW! Like this t...\n",
       "viewCount                                                126670859\n",
       "likeCount                                                   981902\n",
       "dislikeCount                                                 29806\n",
       "commentCount                                                 11532\n",
       "Name: 396, dtype: object"
      ]
     },
     "execution_count": 72,
     "metadata": {},
     "output_type": "execute_result"
    }
   ],
   "source": [
    "data.iloc[most_viewdId]"
   ]
  },
  {
   "cell_type": "code",
   "execution_count": 73,
   "metadata": {},
   "outputs": [
    {
     "data": {
      "text/plain": [
       "v_id                                                   __TvPr_Wtvc\n",
       "v_title              Timmy Trumpet - Oracle (Official Music Video)\n",
       "Keyword                                                     Oracle\n",
       "v_description    Timmy Trumpet - Oracle is OUT NOW! Like this t...\n",
       "viewCount                                                126670859\n",
       "likeCount                                                   981902\n",
       "dislikeCount                                                 29806\n",
       "commentCount                                                 11532\n",
       "Name: 396, dtype: object"
      ]
     },
     "execution_count": 73,
     "metadata": {},
     "output_type": "execute_result"
    }
   ],
   "source": [
    "data.iloc[most_dislikedId]"
   ]
  },
  {
   "cell_type": "code",
   "execution_count": 74,
   "metadata": {},
   "outputs": [
    {
     "data": {
      "text/plain": [
       "v_id                                                   gfDE2a7MKjA\n",
       "v_title          Python Tutorial For Beginners In Hindi (With N...\n",
       "Keyword                                         Python Programming\n",
       "v_description    Learn Python One Video in Hindi: This Python P...\n",
       "viewCount                                                  3792135\n",
       "likeCount                                                   156579\n",
       "dislikeCount                                                  1734\n",
       "commentCount                                                 43642\n",
       "Name: 98, dtype: object"
      ]
     },
     "execution_count": 74,
     "metadata": {},
     "output_type": "execute_result"
    }
   ],
   "source": [
    "data.iloc[most_commentedId]"
   ]
  },
  {
   "cell_type": "code",
   "execution_count": 75,
   "metadata": {},
   "outputs": [
    {
     "data": {
      "text/html": [
       "<div>\n",
       "<style scoped>\n",
       "    .dataframe tbody tr th:only-of-type {\n",
       "        vertical-align: middle;\n",
       "    }\n",
       "\n",
       "    .dataframe tbody tr th {\n",
       "        vertical-align: top;\n",
       "    }\n",
       "\n",
       "    .dataframe thead th {\n",
       "        text-align: right;\n",
       "    }\n",
       "</style>\n",
       "<table border=\"1\" class=\"dataframe\">\n",
       "  <thead>\n",
       "    <tr style=\"text-align: right;\">\n",
       "      <th></th>\n",
       "      <th>v_title</th>\n",
       "      <th>Keyword</th>\n",
       "      <th>v_description</th>\n",
       "    </tr>\n",
       "  </thead>\n",
       "  <tbody>\n",
       "    <tr>\n",
       "      <th>0</th>\n",
       "      <td>Data Science Full Course - Learn Data Science ...</td>\n",
       "      <td>Python for data science</td>\n",
       "      <td>🔥 Data Science Master Program (Use Code \"𝐘𝐎𝐔𝐓𝐔...</td>\n",
       "    </tr>\n",
       "    <tr>\n",
       "      <th>1</th>\n",
       "      <td>Data Science In 5 Minutes | Data Science For B...</td>\n",
       "      <td>Python for data science</td>\n",
       "      <td>🔥Free Data Science with Python course: https:/...</td>\n",
       "    </tr>\n",
       "    <tr>\n",
       "      <th>2</th>\n",
       "      <td>Data Science Tutorial | Data Science for Begin...</td>\n",
       "      <td>Python for data science</td>\n",
       "      <td>🔥Get the free certificate of completion for th...</td>\n",
       "    </tr>\n",
       "    <tr>\n",
       "      <th>3</th>\n",
       "      <td>What REALLY is Data Science? Told by a Data Sc...</td>\n",
       "      <td>Data science</td>\n",
       "      <td>Interested in Data Science? Start with learnin...</td>\n",
       "    </tr>\n",
       "    <tr>\n",
       "      <th>4</th>\n",
       "      <td>Complete Roadmap to Become a Data Scientist</td>\n",
       "      <td>Python for data science</td>\n",
       "      <td>How to become a Data Scientist: Become a self ...</td>\n",
       "    </tr>\n",
       "  </tbody>\n",
       "</table>\n",
       "</div>"
      ],
      "text/plain": [
       "                                             v_title                  Keyword  \\\n",
       "0  Data Science Full Course - Learn Data Science ...  Python for data science   \n",
       "1  Data Science In 5 Minutes | Data Science For B...  Python for data science   \n",
       "2  Data Science Tutorial | Data Science for Begin...  Python for data science   \n",
       "3  What REALLY is Data Science? Told by a Data Sc...             Data science   \n",
       "4        Complete Roadmap to Become a Data Scientist  Python for data science   \n",
       "\n",
       "                                       v_description  \n",
       "0  🔥 Data Science Master Program (Use Code \"𝐘𝐎𝐔𝐓𝐔...  \n",
       "1  🔥Free Data Science with Python course: https:/...  \n",
       "2  🔥Get the free certificate of completion for th...  \n",
       "3  Interested in Data Science? Start with learnin...  \n",
       "4  How to become a Data Scientist: Become a self ...  "
      ]
     },
     "execution_count": 75,
     "metadata": {},
     "output_type": "execute_result"
    }
   ],
   "source": [
    "data1=data.drop([\"v_id\",\"dislikeCount\",\"commentCount\",\"viewCount\",\"likeCount\"],axis=1)\n",
    "data1.head()"
   ]
  },
  {
   "cell_type": "code",
   "execution_count": 76,
   "metadata": {},
   "outputs": [],
   "source": [
    "from sklearn.feature_extraction.text import TfidfVectorizer\n",
    "import string\n",
    "import spacy \n",
    "from nltk.corpus import stopwords\n",
    "import re\n",
    "from sklearn.metrics.pairwise import cosine_similarity\n",
    "from sklearn.feature_extraction.text import CountVectorizer\n",
    "from gensim import corpora"
   ]
  },
  {
   "cell_type": "code",
   "execution_count": 77,
   "metadata": {},
   "outputs": [],
   "source": [
    "stop=stopwords.words('english')"
   ]
  },
  {
   "cell_type": "code",
   "execution_count": 78,
   "metadata": {},
   "outputs": [],
   "source": [
    "data1['v_title'] = data1['v_title'].apply(lambda x: ' '.join([word for word in x.split() if word not in (stop)]))"
   ]
  },
  {
   "cell_type": "code",
   "execution_count": 79,
   "metadata": {},
   "outputs": [],
   "source": [
    "data1[\"v_title\"] = data1[\"v_title\"].apply(lambda x: x.lower())"
   ]
  },
  {
   "cell_type": "code",
   "execution_count": 80,
   "metadata": {},
   "outputs": [],
   "source": [
    "data1['v_description'] = data1['v_description'].apply(lambda x: ' '.join([word for word in x.split() if word not in (stop)]))\n",
    "data1[\"v_description\"] = data1[\"v_description\"].apply(lambda x: x.lower())"
   ]
  },
  {
   "cell_type": "code",
   "execution_count": 81,
   "metadata": {},
   "outputs": [],
   "source": [
    "data1['Keyword'] = data1['Keyword'].apply(lambda x: ' '.join([word for word in x.split() if word not in (stop)]))\n",
    "data1[\"Keyword\"] = data1[\"Keyword\"].apply(lambda x: x.lower())"
   ]
  },
  {
   "cell_type": "code",
   "execution_count": 82,
   "metadata": {},
   "outputs": [
    {
     "data": {
      "text/html": [
       "<div>\n",
       "<style scoped>\n",
       "    .dataframe tbody tr th:only-of-type {\n",
       "        vertical-align: middle;\n",
       "    }\n",
       "\n",
       "    .dataframe tbody tr th {\n",
       "        vertical-align: top;\n",
       "    }\n",
       "\n",
       "    .dataframe thead th {\n",
       "        text-align: right;\n",
       "    }\n",
       "</style>\n",
       "<table border=\"1\" class=\"dataframe\">\n",
       "  <thead>\n",
       "    <tr style=\"text-align: right;\">\n",
       "      <th></th>\n",
       "      <th>v_title</th>\n",
       "      <th>Keyword</th>\n",
       "      <th>v_description</th>\n",
       "    </tr>\n",
       "  </thead>\n",
       "  <tbody>\n",
       "    <tr>\n",
       "      <th>0</th>\n",
       "      <td>data science full course - learn data science ...</td>\n",
       "      <td>python data science</td>\n",
       "      <td>🔥 data science master program (use code \"𝐘𝐎𝐔𝐓𝐔...</td>\n",
       "    </tr>\n",
       "    <tr>\n",
       "      <th>1</th>\n",
       "      <td>data science in 5 minutes | data science for b...</td>\n",
       "      <td>python data science</td>\n",
       "      <td>🔥free data science python course: https://www....</td>\n",
       "    </tr>\n",
       "    <tr>\n",
       "      <th>2</th>\n",
       "      <td>data science tutorial | data science beginners...</td>\n",
       "      <td>python data science</td>\n",
       "      <td>🔥get free certificate completion data science ...</td>\n",
       "    </tr>\n",
       "    <tr>\n",
       "      <th>3</th>\n",
       "      <td>what really data science? told data scientist</td>\n",
       "      <td>data science</td>\n",
       "      <td>interested data science? start learning sql qu...</td>\n",
       "    </tr>\n",
       "    <tr>\n",
       "      <th>4</th>\n",
       "      <td>complete roadmap become data scientist</td>\n",
       "      <td>python data science</td>\n",
       "      <td>how become data scientist: become self taught ...</td>\n",
       "    </tr>\n",
       "  </tbody>\n",
       "</table>\n",
       "</div>"
      ],
      "text/plain": [
       "                                             v_title              Keyword  \\\n",
       "0  data science full course - learn data science ...  python data science   \n",
       "1  data science in 5 minutes | data science for b...  python data science   \n",
       "2  data science tutorial | data science beginners...  python data science   \n",
       "3      what really data science? told data scientist         data science   \n",
       "4             complete roadmap become data scientist  python data science   \n",
       "\n",
       "                                       v_description  \n",
       "0  🔥 data science master program (use code \"𝐘𝐎𝐔𝐓𝐔...  \n",
       "1  🔥free data science python course: https://www....  \n",
       "2  🔥get free certificate completion data science ...  \n",
       "3  interested data science? start learning sql qu...  \n",
       "4  how become data scientist: become self taught ...  "
      ]
     },
     "execution_count": 82,
     "metadata": {},
     "output_type": "execute_result"
    }
   ],
   "source": [
    "data1.head()"
   ]
  },
  {
   "cell_type": "code",
   "execution_count": 83,
   "metadata": {},
   "outputs": [],
   "source": [
    "def spacy_tokenizer(sentence):\n",
    "    #remove distracting single quotes\n",
    "    sentence = re.sub('\\'','',sentence)\n",
    "    #remove digits adnd words containing digits\n",
    "    sentence = re.sub('\\w*\\d\\w*','',sentence)\n",
    "    #replace extra spaces with single space\n",
    "    sentence = re.sub(' +',' ',sentence)\n",
    "    #remove unwanted lines starting from special charcters\n",
    "    sentence = re.sub(r'\\n: \\'\\'.*','',sentence)\n",
    "    sentence = re.sub(r'\\n!.*','',sentence)\n",
    "    sentence = re.sub(r'^:\\'\\'.*','',sentence) \n",
    "    #remove non-breaking new line characters\n",
    "    sentence = re.sub(r'\\n',' ',sentence)\n",
    "    #remove punctunations\n",
    "    sentence = re.sub(r'[^\\w\\s]',' ',sentence)\n",
    "    sentence =re.sub(' +','',sentence)\n",
    "    return sentence"
   ]
  },
  {
   "cell_type": "code",
   "execution_count": 84,
   "metadata": {},
   "outputs": [],
   "source": [
    "data1['v_title'] = data1['v_title'].map(lambda x: spacy_tokenizer(x))\n",
    "data1['v_description']=data1['v_description'].map(lambda x: spacy_tokenizer(x))"
   ]
  },
  {
   "cell_type": "code",
   "execution_count": 85,
   "metadata": {},
   "outputs": [
    {
     "data": {
      "text/html": [
       "<div>\n",
       "<style scoped>\n",
       "    .dataframe tbody tr th:only-of-type {\n",
       "        vertical-align: middle;\n",
       "    }\n",
       "\n",
       "    .dataframe tbody tr th {\n",
       "        vertical-align: top;\n",
       "    }\n",
       "\n",
       "    .dataframe thead th {\n",
       "        text-align: right;\n",
       "    }\n",
       "</style>\n",
       "<table border=\"1\" class=\"dataframe\">\n",
       "  <thead>\n",
       "    <tr style=\"text-align: right;\">\n",
       "      <th></th>\n",
       "      <th>v_title</th>\n",
       "      <th>Keyword</th>\n",
       "      <th>v_description</th>\n",
       "    </tr>\n",
       "  </thead>\n",
       "  <tbody>\n",
       "    <tr>\n",
       "      <th>0</th>\n",
       "      <td>datasciencefullcourselearndatasciencehoursdata...</td>\n",
       "      <td>python data science</td>\n",
       "      <td>datasciencemasterprogramusecodehttpswwwedureka...</td>\n",
       "    </tr>\n",
       "    <tr>\n",
       "      <th>1</th>\n",
       "      <td>datascienceinminutesdatascienceforbeginnerswha...</td>\n",
       "      <td>python data science</td>\n",
       "      <td>freedatasciencepythoncoursehttpswwwsimplilearn...</td>\n",
       "    </tr>\n",
       "    <tr>\n",
       "      <th>2</th>\n",
       "      <td>datasciencetutorialdatasciencebeginnerspythond...</td>\n",
       "      <td>python data science</td>\n",
       "      <td>getfreecertificatecompletiondatasciencepythonc...</td>\n",
       "    </tr>\n",
       "    <tr>\n",
       "      <th>3</th>\n",
       "      <td>whatreallydatasciencetolddatascientist</td>\n",
       "      <td>data science</td>\n",
       "      <td>interesteddatasciencestartlearningsqlquerydata...</td>\n",
       "    </tr>\n",
       "    <tr>\n",
       "      <th>4</th>\n",
       "      <td>completeroadmapbecomedatascientist</td>\n",
       "      <td>python data science</td>\n",
       "      <td>howbecomedatascientistbecomeselftaughtdatascie...</td>\n",
       "    </tr>\n",
       "  </tbody>\n",
       "</table>\n",
       "</div>"
      ],
      "text/plain": [
       "                                             v_title              Keyword  \\\n",
       "0  datasciencefullcourselearndatasciencehoursdata...  python data science   \n",
       "1  datascienceinminutesdatascienceforbeginnerswha...  python data science   \n",
       "2  datasciencetutorialdatasciencebeginnerspythond...  python data science   \n",
       "3             whatreallydatasciencetolddatascientist         data science   \n",
       "4                 completeroadmapbecomedatascientist  python data science   \n",
       "\n",
       "                                       v_description  \n",
       "0  datasciencemasterprogramusecodehttpswwwedureka...  \n",
       "1  freedatasciencepythoncoursehttpswwwsimplilearn...  \n",
       "2  getfreecertificatecompletiondatasciencepythonc...  \n",
       "3  interesteddatasciencestartlearningsqlquerydata...  \n",
       "4  howbecomedatascientistbecomeselftaughtdatascie...  "
      ]
     },
     "execution_count": 85,
     "metadata": {},
     "output_type": "execute_result"
    }
   ],
   "source": [
    "data1.head()"
   ]
  },
  {
   "cell_type": "code",
   "execution_count": 155,
   "metadata": {},
   "outputs": [],
   "source": [
    "data1['Bag_of_words'] = ''\n",
    "columns = ['v_title',\"v_description\",\"Keyword\"] \n",
    "for index, row in data1.iterrows():\n",
    "    words = ''\n",
    "    for col in columns:\n",
    "        words +=''.join(row[col]) + ''\n",
    "    row['Bag_of_words'] = words"
   ]
  },
  {
   "cell_type": "code",
   "execution_count": 156,
   "metadata": {},
   "outputs": [
    {
     "data": {
      "text/html": [
       "<div>\n",
       "<style scoped>\n",
       "    .dataframe tbody tr th:only-of-type {\n",
       "        vertical-align: middle;\n",
       "    }\n",
       "\n",
       "    .dataframe tbody tr th {\n",
       "        vertical-align: top;\n",
       "    }\n",
       "\n",
       "    .dataframe thead th {\n",
       "        text-align: right;\n",
       "    }\n",
       "</style>\n",
       "<table border=\"1\" class=\"dataframe\">\n",
       "  <thead>\n",
       "    <tr style=\"text-align: right;\">\n",
       "      <th></th>\n",
       "      <th>v_title</th>\n",
       "      <th>Keyword</th>\n",
       "      <th>v_description</th>\n",
       "      <th>Bag_of_words</th>\n",
       "    </tr>\n",
       "  </thead>\n",
       "  <tbody>\n",
       "    <tr>\n",
       "      <th>0</th>\n",
       "      <td>datasciencefullcourselearndatasciencehoursdata...</td>\n",
       "      <td>python data science</td>\n",
       "      <td>datasciencemasterprogramusecodehttpswwwedureka...</td>\n",
       "      <td>datasciencefullcourselearndatasciencehoursdata...</td>\n",
       "    </tr>\n",
       "    <tr>\n",
       "      <th>1</th>\n",
       "      <td>datascienceinminutesdatascienceforbeginnerswha...</td>\n",
       "      <td>python data science</td>\n",
       "      <td>freedatasciencepythoncoursehttpswwwsimplilearn...</td>\n",
       "      <td>datascienceinminutesdatascienceforbeginnerswha...</td>\n",
       "    </tr>\n",
       "    <tr>\n",
       "      <th>2</th>\n",
       "      <td>datasciencetutorialdatasciencebeginnerspythond...</td>\n",
       "      <td>python data science</td>\n",
       "      <td>getfreecertificatecompletiondatasciencepythonc...</td>\n",
       "      <td>datasciencetutorialdatasciencebeginnerspythond...</td>\n",
       "    </tr>\n",
       "    <tr>\n",
       "      <th>3</th>\n",
       "      <td>whatreallydatasciencetolddatascientist</td>\n",
       "      <td>data science</td>\n",
       "      <td>interesteddatasciencestartlearningsqlquerydata...</td>\n",
       "      <td>whatreallydatasciencetolddatascientistinterest...</td>\n",
       "    </tr>\n",
       "    <tr>\n",
       "      <th>4</th>\n",
       "      <td>completeroadmapbecomedatascientist</td>\n",
       "      <td>python data science</td>\n",
       "      <td>howbecomedatascientistbecomeselftaughtdatascie...</td>\n",
       "      <td>completeroadmapbecomedatascientisthowbecomedat...</td>\n",
       "    </tr>\n",
       "  </tbody>\n",
       "</table>\n",
       "</div>"
      ],
      "text/plain": [
       "                                             v_title              Keyword  \\\n",
       "0  datasciencefullcourselearndatasciencehoursdata...  python data science   \n",
       "1  datascienceinminutesdatascienceforbeginnerswha...  python data science   \n",
       "2  datasciencetutorialdatasciencebeginnerspythond...  python data science   \n",
       "3             whatreallydatasciencetolddatascientist         data science   \n",
       "4                 completeroadmapbecomedatascientist  python data science   \n",
       "\n",
       "                                       v_description  \\\n",
       "0  datasciencemasterprogramusecodehttpswwwedureka...   \n",
       "1  freedatasciencepythoncoursehttpswwwsimplilearn...   \n",
       "2  getfreecertificatecompletiondatasciencepythonc...   \n",
       "3  interesteddatasciencestartlearningsqlquerydata...   \n",
       "4  howbecomedatascientistbecomeselftaughtdatascie...   \n",
       "\n",
       "                                        Bag_of_words  \n",
       "0  datasciencefullcourselearndatasciencehoursdata...  \n",
       "1  datascienceinminutesdatascienceforbeginnerswha...  \n",
       "2  datasciencetutorialdatasciencebeginnerspythond...  \n",
       "3  whatreallydatasciencetolddatascientistinterest...  \n",
       "4  completeroadmapbecomedatascientisthowbecomedat...  "
      ]
     },
     "execution_count": 156,
     "metadata": {},
     "output_type": "execute_result"
    }
   ],
   "source": [
    "data1.head()"
   ]
  },
  {
   "cell_type": "code",
   "execution_count": 157,
   "metadata": {},
   "outputs": [],
   "source": [
    "data2=data1.drop([\"v_title\",\"v_description\"],axis=1)"
   ]
  },
  {
   "cell_type": "code",
   "execution_count": 158,
   "metadata": {},
   "outputs": [
    {
     "data": {
      "text/html": [
       "<div>\n",
       "<style scoped>\n",
       "    .dataframe tbody tr th:only-of-type {\n",
       "        vertical-align: middle;\n",
       "    }\n",
       "\n",
       "    .dataframe tbody tr th {\n",
       "        vertical-align: top;\n",
       "    }\n",
       "\n",
       "    .dataframe thead th {\n",
       "        text-align: right;\n",
       "    }\n",
       "</style>\n",
       "<table border=\"1\" class=\"dataframe\">\n",
       "  <thead>\n",
       "    <tr style=\"text-align: right;\">\n",
       "      <th></th>\n",
       "      <th>Keyword</th>\n",
       "      <th>Bag_of_words</th>\n",
       "    </tr>\n",
       "  </thead>\n",
       "  <tbody>\n",
       "    <tr>\n",
       "      <th>0</th>\n",
       "      <td>python data science</td>\n",
       "      <td>datasciencefullcourselearndatasciencehoursdata...</td>\n",
       "    </tr>\n",
       "    <tr>\n",
       "      <th>1</th>\n",
       "      <td>python data science</td>\n",
       "      <td>datascienceinminutesdatascienceforbeginnerswha...</td>\n",
       "    </tr>\n",
       "    <tr>\n",
       "      <th>2</th>\n",
       "      <td>python data science</td>\n",
       "      <td>datasciencetutorialdatasciencebeginnerspythond...</td>\n",
       "    </tr>\n",
       "    <tr>\n",
       "      <th>3</th>\n",
       "      <td>data science</td>\n",
       "      <td>whatreallydatasciencetolddatascientistinterest...</td>\n",
       "    </tr>\n",
       "    <tr>\n",
       "      <th>4</th>\n",
       "      <td>python data science</td>\n",
       "      <td>completeroadmapbecomedatascientisthowbecomedat...</td>\n",
       "    </tr>\n",
       "    <tr>\n",
       "      <th>...</th>\n",
       "      <td>...</td>\n",
       "      <td>...</td>\n",
       "    </tr>\n",
       "    <tr>\n",
       "      <th>2353</th>\n",
       "      <td>hypothesis testing</td>\n",
       "      <td>hypothesistestingtypesselectioncorrecttestprac...</td>\n",
       "    </tr>\n",
       "    <tr>\n",
       "      <th>2354</th>\n",
       "      <td>hypothesis testing</td>\n",
       "      <td>testinghypothesisteluguhypothesistestingproces...</td>\n",
       "    </tr>\n",
       "    <tr>\n",
       "      <th>2355</th>\n",
       "      <td>hypothesis testing</td>\n",
       "      <td>levelicfaquanthypothesistestinglecturethisread...</td>\n",
       "    </tr>\n",
       "    <tr>\n",
       "      <th>2356</th>\n",
       "      <td>hypothesis testing</td>\n",
       "      <td>whathypothesisparttypeshypothesisnullampaltern...</td>\n",
       "    </tr>\n",
       "    <tr>\n",
       "      <th>2357</th>\n",
       "      <td>hypothesis testing</td>\n",
       "      <td>statisticalhypothesistestingdatasciencepythoni...</td>\n",
       "    </tr>\n",
       "  </tbody>\n",
       "</table>\n",
       "<p>2358 rows × 2 columns</p>\n",
       "</div>"
      ],
      "text/plain": [
       "                  Keyword                                       Bag_of_words\n",
       "0     python data science  datasciencefullcourselearndatasciencehoursdata...\n",
       "1     python data science  datascienceinminutesdatascienceforbeginnerswha...\n",
       "2     python data science  datasciencetutorialdatasciencebeginnerspythond...\n",
       "3            data science  whatreallydatasciencetolddatascientistinterest...\n",
       "4     python data science  completeroadmapbecomedatascientisthowbecomedat...\n",
       "...                   ...                                                ...\n",
       "2353   hypothesis testing  hypothesistestingtypesselectioncorrecttestprac...\n",
       "2354   hypothesis testing  testinghypothesisteluguhypothesistestingproces...\n",
       "2355   hypothesis testing  levelicfaquanthypothesistestinglecturethisread...\n",
       "2356   hypothesis testing  whathypothesisparttypeshypothesisnullampaltern...\n",
       "2357   hypothesis testing  statisticalhypothesistestingdatasciencepythoni...\n",
       "\n",
       "[2358 rows x 2 columns]"
      ]
     },
     "execution_count": 158,
     "metadata": {},
     "output_type": "execute_result"
    }
   ],
   "source": [
    "data2"
   ]
  },
  {
   "cell_type": "code",
   "execution_count": 159,
   "metadata": {},
   "outputs": [
    {
     "name": "stdout",
     "output_type": "stream",
     "text": [
      "[[1.         0.66666667 0.66666667 ... 0.         0.         0.        ]\n",
      " [0.66666667 1.         0.66666667 ... 0.         0.         0.        ]\n",
      " [0.66666667 0.66666667 1.         ... 0.         0.         0.        ]\n",
      " ...\n",
      " [0.         0.         0.         ... 1.         0.5        0.5       ]\n",
      " [0.         0.         0.         ... 0.5        1.         0.5       ]\n",
      " [0.         0.         0.         ... 0.5        0.5        1.        ]]\n"
     ]
    }
   ],
   "source": [
    "count = CountVectorizer()\n",
    "count_matrix = count.fit_transform(data2['Bag_of_words'])\n",
    "cosine_sim = cosine_similarity(count_matrix, count_matrix)\n",
    "print(cosine_sim)"
   ]
  },
  {
   "cell_type": "code",
   "execution_count": 160,
   "metadata": {},
   "outputs": [],
   "source": [
    "indices = pd.Series(data2['Keyword'])"
   ]
  },
  {
   "cell_type": "code",
   "execution_count": 161,
   "metadata": {},
   "outputs": [],
   "source": [
    "def recommend(title, cosine_sim = cosine_sim):\n",
    "    recommended_movies = []\n",
    "    idx = indices[indices == title].index[0]\n",
    "    score_series = pd.Series(cosine_sim[idx]).sort_values(ascending = False)\n",
    "    top_10_indices = list(score_series.iloc[1:20].index)\n",
    "    \n",
    "    for i in top_10_indices:\n",
    "        recommended_movies.append(list(data1['Keyword'])[i])\n",
    "        \n",
    "    return recommended_movies"
   ]
  },
  {
   "cell_type": "code",
   "execution_count": 162,
   "metadata": {},
   "outputs": [
    {
     "data": {
      "text/plain": [
       "['time series analysis',\n",
       " 'time series analysis',\n",
       " 'time series analysis',\n",
       " 'time series analysis',\n",
       " 'time series analysis',\n",
       " 'time series analysis',\n",
       " 'time series analysis',\n",
       " 'time series analysis',\n",
       " 'time series analysis',\n",
       " 'time series analysis',\n",
       " 'time series analysis',\n",
       " 'time series analysis',\n",
       " 'time series analysis',\n",
       " 'time series analysis',\n",
       " 'time series analysis',\n",
       " 'time series analysis',\n",
       " 'time series analysis',\n",
       " 'time series analysis',\n",
       " 'time series analysis']"
      ]
     },
     "execution_count": 162,
     "metadata": {},
     "output_type": "execute_result"
    }
   ],
   "source": [
    "recommend(\"time series analysis\")"
   ]
  },
  {
   "cell_type": "code",
   "execution_count": 163,
   "metadata": {},
   "outputs": [
    {
     "data": {
      "text/plain": [
       "array(['python data science', 'data science', 'math data science',\n",
       "       'soft skills data science', 'data analysis', 'deep learning',\n",
       "       'business analytics', 'data analytics', 'data engineer',\n",
       "       'data visualization', 'programming', 'python programming',\n",
       "       'algorithms', 'tableau', 'machine learning', 'neural network',\n",
       "       'statistics', 'probability in statistics', 'statistical analysis',\n",
       "       'hypothesis testing', 'mysql', 'sql', 'oracle', 'confusion matrix',\n",
       "       'arificial intelligence', 'seaborn', 'big data', 'r studio',\n",
       "       'natural language processing', 'sentimental analysis',\n",
       "       'text mining', 'feature engineering', 'feature selection',\n",
       "       'exploratory data analysis', 'data science projects', 'streamlit',\n",
       "       'forecasting', 'clustering algorithm', 'hadoop', 'numpy',\n",
       "       'python libraries', 'matplotlib', 'time series analysis',\n",
       "       'web scrapping', 'random forest', 'data cleaning',\n",
       "       'data warehousing', 'data mining', 'recommender system',\n",
       "       'decision tree'], dtype=object)"
      ]
     },
     "execution_count": 163,
     "metadata": {},
     "output_type": "execute_result"
    }
   ],
   "source": [
    "data2.Keyword.unique()"
   ]
  },
  {
   "cell_type": "code",
   "execution_count": null,
   "metadata": {},
   "outputs": [],
   "source": []
  }
 ],
 "metadata": {
  "kernelspec": {
   "display_name": "Python 3",
   "language": "python",
   "name": "python3"
  },
  "language_info": {
   "codemirror_mode": {
    "name": "ipython",
    "version": 3
   },
   "file_extension": ".py",
   "mimetype": "text/x-python",
   "name": "python",
   "nbconvert_exporter": "python",
   "pygments_lexer": "ipython3",
   "version": "3.8.5"
  }
 },
 "nbformat": 4,
 "nbformat_minor": 4
}
